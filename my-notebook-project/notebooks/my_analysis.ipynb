{
 "cells": [
  {
   "cell_type": "code",
   "execution_count": null,
   "id": "19fc2dfe",
   "metadata": {},
   "outputs": [],
   "source": [
    "print('Notebook ran successfully!')"
   ]
  }
 ],
 "metadata": {},
 "nbformat": 4,
 "nbformat_minor": 5
}
